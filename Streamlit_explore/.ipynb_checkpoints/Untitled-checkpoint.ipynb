{
 "cells": [
  {
   "cell_type": "code",
   "execution_count": 57,
   "metadata": {},
   "outputs": [],
   "source": [
    "from sklearn.tree import DecisionTreeClassifier\n",
    "import pandas as pd"
   ]
  },
  {
   "cell_type": "code",
   "execution_count": 58,
   "metadata": {},
   "outputs": [],
   "source": [
    "data = pd.read_csv(\"机器学习图书.csv\",engine=\"python\")"
   ]
  },
  {
   "cell_type": "code",
   "execution_count": 59,
   "metadata": {},
   "outputs": [
    {
     "data": {
      "text/html": [
       "<div>\n",
       "<style scoped>\n",
       "    .dataframe tbody tr th:only-of-type {\n",
       "        vertical-align: middle;\n",
       "    }\n",
       "\n",
       "    .dataframe tbody tr th {\n",
       "        vertical-align: top;\n",
       "    }\n",
       "\n",
       "    .dataframe thead th {\n",
       "        text-align: right;\n",
       "    }\n",
       "</style>\n",
       "<table border=\"1\" class=\"dataframe\">\n",
       "  <thead>\n",
       "    <tr style=\"text-align: right;\">\n",
       "      <th></th>\n",
       "      <th>锘縉ame</th>\n",
       "      <th>Price</th>\n",
       "      <th>Author</th>\n",
       "      <th>Date</th>\n",
       "      <th>Publisher</th>\n",
       "      <th>Comment</th>\n",
       "      <th>sales</th>\n",
       "    </tr>\n",
       "  </thead>\n",
       "  <tbody>\n",
       "    <tr>\n",
       "      <th>0</th>\n",
       "      <td>鏈哄櫒瀛︿範</td>\n",
       "      <td>61.6</td>\n",
       "      <td>鍛ㄥ織鍗�</td>\n",
       "      <td>1/1/2016</td>\n",
       "      <td>娓呭崕澶у�﹀嚭鐗堢ぞ</td>\n",
       "      <td>74788</td>\n",
       "      <td>172446</td>\n",
       "    </tr>\n",
       "    <tr>\n",
       "      <th>1</th>\n",
       "      <td>鏈哄櫒瀛︿範瀹炴垬銆恜ython鍩虹��鏁欑▼鎸囧崡锛宲ython鏍稿績缂栫▼瀹炰緥鎸囧�硷...</td>\n",
       "      <td>54.5</td>\n",
       "      <td>鍝堟灄椤�</td>\n",
       "      <td>6/1/2013</td>\n",
       "      <td>浜烘皯閭�鐢靛嚭鐗堢ぞ</td>\n",
       "      <td>24895</td>\n",
       "      <td>300279</td>\n",
       "    </tr>\n",
       "    <tr>\n",
       "      <th>2</th>\n",
       "      <td>鏈哄櫒瀛︿範鈥斺�斿師鐞嗐�佺畻娉曚笌搴旂敤</td>\n",
       "      <td>66.5</td>\n",
       "      <td>闆锋槑</td>\n",
       "      <td>9/1/2019</td>\n",
       "      <td>娓呭崕澶у�﹀嚭鐗堢ぞ</td>\n",
       "      <td>1074</td>\n",
       "      <td>2643</td>\n",
       "    </tr>\n",
       "    <tr>\n",
       "      <th>3</th>\n",
       "      <td>鏈哄櫒瀛︿範瀹炴垬锛氬熀浜嶴cikit-Learn鍜孴ensorFlow</td>\n",
       "      <td>82.1</td>\n",
       "      <td>濂ラ浄鍒╁畨路鏉伴緳</td>\n",
       "      <td>8/27/2018</td>\n",
       "      <td>鏈烘�板伐涓氬嚭鐗堢ぞ</td>\n",
       "      <td>5438</td>\n",
       "      <td>259062</td>\n",
       "    </tr>\n",
       "    <tr>\n",
       "      <th>4</th>\n",
       "      <td>鏈哄櫒瀛︿範涓�鐨勬暟瀛�</td>\n",
       "      <td>61.1</td>\n",
       "      <td>瀛欏崥</td>\n",
       "      <td>11/1/2019</td>\n",
       "      <td>姘村埄姘寸數鍑虹増绀�</td>\n",
       "      <td>1778</td>\n",
       "      <td>72852</td>\n",
       "    </tr>\n",
       "  </tbody>\n",
       "</table>\n",
       "</div>"
      ],
      "text/plain": [
       "                                               锘縉ame  Price      Author  \\\n",
       "0                                            鏈哄櫒瀛︿範    61.6       鍛ㄥ織鍗�   \n",
       "1  鏈哄櫒瀛︿範瀹炴垬銆恜ython鍩虹��鏁欑▼鎸囧崡锛宲ython鏍稿績缂栫▼瀹炰緥鎸囧�硷...   54.5       鍝堟灄椤�   \n",
       "2                            鏈哄櫒瀛︿範鈥斺�斿師鐞嗐�佺畻娉曚笌搴旂敤    66.5         闆锋槑   \n",
       "3              鏈哄櫒瀛︿範瀹炴垬锛氬熀浜嶴cikit-Learn鍜孴ensorFlow    82.1  濂ラ浄鍒╁畨路鏉伴緳   \n",
       "4                                     鏈哄櫒瀛︿範涓�鐨勬暟瀛�    61.1         瀛欏崥   \n",
       "\n",
       "        Date    Publisher Comment   sales  \n",
       "0   1/1/2016  娓呭崕澶у�﹀嚭鐗堢ぞ   74788  172446  \n",
       "1   6/1/2013  浜烘皯閭�鐢靛嚭鐗堢ぞ   24895  300279  \n",
       "2   9/1/2019  娓呭崕澶у�﹀嚭鐗堢ぞ    1074    2643  \n",
       "3  8/27/2018  鏈烘�板伐涓氬嚭鐗堢ぞ    5438  259062  \n",
       "4  11/1/2019  姘村埄姘寸數鍑虹増绀�    1778   72852  "
      ]
     },
     "execution_count": 59,
     "metadata": {},
     "output_type": "execute_result"
    }
   ],
   "source": [
    "data.head()"
   ]
  },
  {
   "cell_type": "code",
   "execution_count": 60,
   "metadata": {},
   "outputs": [],
   "source": [
    "label = data[\"sales\"]\n",
    "features = data.drop([\"sales\"], 1)"
   ]
  },
  {
   "cell_type": "code",
   "execution_count": 61,
   "metadata": {},
   "outputs": [],
   "source": [
    "from sklearn.tree import DecisionTreeRegressor\n",
    "model = DecisionTreeRegressor(max_depth=5)"
   ]
  },
  {
   "cell_type": "code",
   "execution_count": 62,
   "metadata": {},
   "outputs": [],
   "source": [
    "from sklearn.preprocessing import LabelEncoder as LabelEncode\n",
    "label_model = LabelEncode()\n"
   ]
  },
  {
   "cell_type": "code",
   "execution_count": 63,
   "metadata": {},
   "outputs": [],
   "source": [
    "features[\"Author\"] = label_model.fit_transform(features[\"Author\"].astype(str))"
   ]
  },
  {
   "cell_type": "code",
   "execution_count": 64,
   "metadata": {},
   "outputs": [],
   "source": [
    "features[\"Publisher\"] = label_model.fit_transform(features[\"Publisher\"].astype(str))"
   ]
  },
  {
   "cell_type": "code",
   "execution_count": 65,
   "metadata": {},
   "outputs": [],
   "source": [
    "features[\"锘縉ame\"] = label_model.fit_transform(features[\"锘縉ame\"].astype(str))"
   ]
  },
  {
   "cell_type": "code",
   "execution_count": 66,
   "metadata": {},
   "outputs": [],
   "source": [
    "features[\"Date\"] = label_model.fit_transform(features[\"Date\"].astype(str))"
   ]
  },
  {
   "cell_type": "code",
   "execution_count": 67,
   "metadata": {},
   "outputs": [
    {
     "data": {
      "text/html": [
       "<div>\n",
       "<style scoped>\n",
       "    .dataframe tbody tr th:only-of-type {\n",
       "        vertical-align: middle;\n",
       "    }\n",
       "\n",
       "    .dataframe tbody tr th {\n",
       "        vertical-align: top;\n",
       "    }\n",
       "\n",
       "    .dataframe thead th {\n",
       "        text-align: right;\n",
       "    }\n",
       "</style>\n",
       "<table border=\"1\" class=\"dataframe\">\n",
       "  <thead>\n",
       "    <tr style=\"text-align: right;\">\n",
       "      <th></th>\n",
       "      <th>锘縉ame</th>\n",
       "      <th>Price</th>\n",
       "      <th>Author</th>\n",
       "      <th>Date</th>\n",
       "      <th>Publisher</th>\n",
       "      <th>Comment</th>\n",
       "    </tr>\n",
       "  </thead>\n",
       "  <tbody>\n",
       "    <tr>\n",
       "      <th>0</th>\n",
       "      <td>2198</td>\n",
       "      <td>61.6</td>\n",
       "      <td>1339</td>\n",
       "      <td>18</td>\n",
       "      <td>7</td>\n",
       "      <td>74788</td>\n",
       "    </tr>\n",
       "    <tr>\n",
       "      <th>1</th>\n",
       "      <td>2241</td>\n",
       "      <td>54.5</td>\n",
       "      <td>1362</td>\n",
       "      <td>339</td>\n",
       "      <td>38</td>\n",
       "      <td>24895</td>\n",
       "    </tr>\n",
       "    <tr>\n",
       "      <th>2</th>\n",
       "      <td>2282</td>\n",
       "      <td>66.5</td>\n",
       "      <td>2183</td>\n",
       "      <td>496</td>\n",
       "      <td>7</td>\n",
       "      <td>1074</td>\n",
       "    </tr>\n",
       "    <tr>\n",
       "      <th>3</th>\n",
       "      <td>2243</td>\n",
       "      <td>82.1</td>\n",
       "      <td>783</td>\n",
       "      <td>466</td>\n",
       "      <td>178</td>\n",
       "      <td>5438</td>\n",
       "    </tr>\n",
       "    <tr>\n",
       "      <th>4</th>\n",
       "      <td>2233</td>\n",
       "      <td>61.1</td>\n",
       "      <td>819</td>\n",
       "      <td>92</td>\n",
       "      <td>2</td>\n",
       "      <td>1778</td>\n",
       "    </tr>\n",
       "  </tbody>\n",
       "</table>\n",
       "</div>"
      ],
      "text/plain": [
       "   锘縉ame  Price  Author  Date  Publisher Comment\n",
       "0   2198   61.6    1339    18          7   74788\n",
       "1   2241   54.5    1362   339         38   24895\n",
       "2   2282   66.5    2183   496          7    1074\n",
       "3   2243   82.1     783   466        178    5438\n",
       "4   2233   61.1     819    92          2    1778"
      ]
     },
     "execution_count": 67,
     "metadata": {},
     "output_type": "execute_result"
    }
   ],
   "source": [
    "features.head()"
   ]
  },
  {
   "cell_type": "code",
   "execution_count": 84,
   "metadata": {},
   "outputs": [],
   "source": [
    "def transform(item):\n",
    "    try:\n",
    "        return int(item)\n",
    "    except:\n",
    "        return 0"
   ]
  },
  {
   "cell_type": "code",
   "execution_count": 85,
   "metadata": {},
   "outputs": [],
   "source": [
    "features[\"Comment\"] = features[\"Comment\"].apply(transform)"
   ]
  },
  {
   "cell_type": "code",
   "execution_count": 88,
   "metadata": {},
   "outputs": [
    {
     "data": {
      "text/plain": [
       "锘縉ame        1376.5\n",
       "Price          38.7\n",
       "Author        916.5\n",
       "Date          290.0\n",
       "Publisher     123.0\n",
       "Comment        26.0\n",
       "dtype: float64"
      ]
     },
     "execution_count": 88,
     "metadata": {},
     "output_type": "execute_result"
    }
   ],
   "source": [
    "fill_value = features.median()\n",
    "fill_value"
   ]
  },
  {
   "cell_type": "code",
   "execution_count": 89,
   "metadata": {},
   "outputs": [],
   "source": [
    "features.fillna(fill_value,inplace=True)"
   ]
  },
  {
   "cell_type": "code",
   "execution_count": 90,
   "metadata": {},
   "outputs": [
    {
     "name": "stdout",
     "output_type": "stream",
     "text": [
      "<class 'pandas.core.frame.DataFrame'>\n",
      "RangeIndex: 3150 entries, 0 to 3149\n",
      "Data columns (total 6 columns):\n",
      "锘縉ame        3150 non-null int32\n",
      "Price        3150 non-null float64\n",
      "Author       3150 non-null int32\n",
      "Date         3150 non-null int32\n",
      "Publisher    3150 non-null int32\n",
      "Comment      3150 non-null int64\n",
      "dtypes: float64(1), int32(4), int64(1)\n",
      "memory usage: 98.5 KB\n"
     ]
    }
   ],
   "source": [
    "features.info()"
   ]
  },
  {
   "cell_type": "code",
   "execution_count": 91,
   "metadata": {},
   "outputs": [
    {
     "data": {
      "text/plain": [
       "DecisionTreeRegressor(criterion='mse', max_depth=5, max_features=None,\n",
       "           max_leaf_nodes=None, min_impurity_decrease=0.0,\n",
       "           min_impurity_split=None, min_samples_leaf=1,\n",
       "           min_samples_split=2, min_weight_fraction_leaf=0.0,\n",
       "           presort=False, random_state=None, splitter='best')"
      ]
     },
     "execution_count": 91,
     "metadata": {},
     "output_type": "execute_result"
    }
   ],
   "source": [
    "model.fit(features, label)"
   ]
  },
  {
   "cell_type": "code",
   "execution_count": 92,
   "metadata": {},
   "outputs": [
    {
     "data": {
      "text/plain": [
       "array([0.08496103, 0.25294312, 0.06992638, 0.09084928, 0.04330087,\n",
       "       0.45801932])"
      ]
     },
     "execution_count": 92,
     "metadata": {},
     "output_type": "execute_result"
    }
   ],
   "source": [
    "model.feature_importances_"
   ]
  },
  {
   "cell_type": "code",
   "execution_count": 94,
   "metadata": {},
   "outputs": [
    {
     "ename": "ModuleNotFoundError",
     "evalue": "No module named 'graphviz'",
     "output_type": "error",
     "traceback": [
      "\u001b[1;31m---------------------------------------------------------------------------\u001b[0m",
      "\u001b[1;31mModuleNotFoundError\u001b[0m                       Traceback (most recent call last)",
      "\u001b[1;32m<ipython-input-94-f7133d3517ab>\u001b[0m in \u001b[0;36m<module>\u001b[1;34m()\u001b[0m\n\u001b[1;32m----> 1\u001b[1;33m \u001b[1;32mimport\u001b[0m \u001b[0mgraphviz\u001b[0m\u001b[1;33m\u001b[0m\u001b[0m\n\u001b[0m",
      "\u001b[1;31mModuleNotFoundError\u001b[0m: No module named 'graphviz'"
     ]
    }
   ],
   "source": [
    "import graphviz"
   ]
  },
  {
   "cell_type": "code",
   "execution_count": null,
   "metadata": {},
   "outputs": [],
   "source": [
    "\n",
    "feature_name = ['酒精','苹果酸','灰','灰的碱性','镁','总酚','类黄酮','非黄烷类酚类','花青素','颜色强度','色调','od280/od315稀释葡萄酒','脯氨酸']\n",
    "dot_data = tree.export_graphviz(clf\n",
    ",out_file=None\n",
    ",feature_names= feature_name\n",
    ",class_names=[\"琴酒\",\"雪莉\",\"贝尔摩德\"]\n",
    ",filled=True\n",
    ",rounded=True\n",
    ")\n",
    "graph = graphviz.Source(dot_data)"
   ]
  }
 ],
 "metadata": {
  "kernelspec": {
   "display_name": "Python 3",
   "language": "python",
   "name": "python3"
  },
  "language_info": {
   "codemirror_mode": {
    "name": "ipython",
    "version": 3
   },
   "file_extension": ".py",
   "mimetype": "text/x-python",
   "name": "python",
   "nbconvert_exporter": "python",
   "pygments_lexer": "ipython3",
   "version": "3.6.4"
  }
 },
 "nbformat": 4,
 "nbformat_minor": 4
}
