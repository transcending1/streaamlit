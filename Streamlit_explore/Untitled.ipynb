{
 "cells": [
  {
   "cell_type": "code",
   "execution_count": 35,
   "metadata": {},
   "outputs": [],
   "source": [
    "from sklearn import tree\n",
    "from sklearn.preprocessing import LabelEncoder as LabelEncode\n",
    "from sklearn.tree import DecisionTreeRegressor\n",
    "import numpy as np\n",
    "import pandas as pd"
   ]
  },
  {
   "cell_type": "code",
   "execution_count": 8,
   "metadata": {},
   "outputs": [],
   "source": [
    "f = open('机器学习图书.csv',encoding=\"utf8\")\n",
    "data = pd.read_csv(f)\n",
    "label = data[\"sales\"]\n",
    "features = data.drop([\"sales\"], 1)"
   ]
  },
  {
   "cell_type": "code",
   "execution_count": 10,
   "metadata": {},
   "outputs": [
    {
     "name": "stdout",
     "output_type": "stream",
     "text": [
      "<class 'pandas.core.frame.DataFrame'>\n",
      "RangeIndex: 3150 entries, 0 to 3149\n",
      "Data columns (total 6 columns):\n",
      "Name         3150 non-null object\n",
      "Price        2861 non-null float64\n",
      "Author       2682 non-null object\n",
      "Date         2744 non-null object\n",
      "Publisher    2823 non-null object\n",
      "Comment      2861 non-null object\n",
      "dtypes: float64(1), object(5)\n",
      "memory usage: 147.7+ KB\n"
     ]
    }
   ],
   "source": [
    "features.info()"
   ]
  },
  {
   "cell_type": "code",
   "execution_count": 15,
   "metadata": {},
   "outputs": [],
   "source": [
    "value_counts = features[\"Date\"].value_counts()"
   ]
  },
  {
   "cell_type": "code",
   "execution_count": 16,
   "metadata": {},
   "outputs": [
    {
     "data": {
      "text/plain": [
       "pandas.core.series.Series"
      ]
     },
     "execution_count": 16,
     "metadata": {},
     "output_type": "execute_result"
    }
   ],
   "source": [
    "type(value_counts)"
   ]
  },
  {
   "cell_type": "code",
   "execution_count": 30,
   "metadata": {},
   "outputs": [],
   "source": [
    "date = pd.to_datetime(features[\"Date\"].dropna())"
   ]
  },
  {
   "cell_type": "code",
   "execution_count": 37,
   "metadata": {},
   "outputs": [],
   "source": [
    "average_year = np.ceil(date.dt.year.mean())"
   ]
  },
  {
   "cell_type": "code",
   "execution_count": 38,
   "metadata": {},
   "outputs": [
    {
     "data": {
      "text/plain": [
       "2013.0"
      ]
     },
     "execution_count": 38,
     "metadata": {},
     "output_type": "execute_result"
    }
   ],
   "source": [
    "average_year"
   ]
  },
  {
   "cell_type": "code",
   "execution_count": 39,
   "metadata": {},
   "outputs": [],
   "source": [
    "average_month = np.ceil(date.dt.month.mean())"
   ]
  },
  {
   "cell_type": "code",
   "execution_count": 40,
   "metadata": {},
   "outputs": [
    {
     "data": {
      "text/plain": [
       "7.0"
      ]
     },
     "execution_count": 40,
     "metadata": {},
     "output_type": "execute_result"
    }
   ],
   "source": [
    "average_month"
   ]
  },
  {
   "cell_type": "code",
   "execution_count": 59,
   "metadata": {},
   "outputs": [],
   "source": [
    "features[\"Date\"] = features[\"Date\"].fillna(\"2013-07-01\")"
   ]
  },
  {
   "cell_type": "code",
   "execution_count": 60,
   "metadata": {},
   "outputs": [
    {
     "name": "stdout",
     "output_type": "stream",
     "text": [
      "<class 'pandas.core.frame.DataFrame'>\n",
      "RangeIndex: 3150 entries, 0 to 3149\n",
      "Data columns (total 6 columns):\n",
      "Name         3150 non-null object\n",
      "Price        2861 non-null float64\n",
      "Author       2682 non-null object\n",
      "Date         3150 non-null object\n",
      "Publisher    2823 non-null object\n",
      "Comment      2861 non-null object\n",
      "dtypes: float64(1), object(5)\n",
      "memory usage: 147.7+ KB\n"
     ]
    }
   ],
   "source": [
    "features.info()"
   ]
  },
  {
   "cell_type": "code",
   "execution_count": 66,
   "metadata": {},
   "outputs": [],
   "source": [
    "features[\"PublishedDays\"] = date.max() - pd.to_datetime(features[\"Date\"])"
   ]
  },
  {
   "cell_type": "code",
   "execution_count": 69,
   "metadata": {},
   "outputs": [
    {
     "data": {
      "text/plain": [
       "0      1658 days\n",
       "1      2602 days\n",
       "2       319 days\n",
       "3       689 days\n",
       "4       258 days\n",
       "5       339 days\n",
       "6      1111 days\n",
       "7        47 days\n",
       "8       507 days\n",
       "9      4520 days\n",
       "10      927 days\n",
       "11     1933 days\n",
       "12       45 days\n",
       "13      623 days\n",
       "14      197 days\n",
       "15     1136 days\n",
       "16      381 days\n",
       "17      715 days\n",
       "18      106 days\n",
       "19      319 days\n",
       "20      106 days\n",
       "21      209 days\n",
       "22      197 days\n",
       "23      807 days\n",
       "24      706 days\n",
       "25      408 days\n",
       "26      248 days\n",
       "27      442 days\n",
       "28      199 days\n",
       "29       45 days\n",
       "          ...   \n",
       "3120   3545 days\n",
       "3121   6133 days\n",
       "3122   1476 days\n",
       "3123   1233 days\n",
       "3124   4336 days\n",
       "3125   2967 days\n",
       "3126   4002 days\n",
       "3127   5494 days\n",
       "3128   1506 days\n",
       "3129   5585 days\n",
       "3130   2602 days\n",
       "3131   2722 days\n",
       "3132   8020 days\n",
       "3133   2572 days\n",
       "3134   4367 days\n",
       "3135   3303 days\n",
       "3136   2845 days\n",
       "3137   3303 days\n",
       "3138   2480 days\n",
       "3139   2572 days\n",
       "3140   4976 days\n",
       "3141   7350 days\n",
       "3142   6163 days\n",
       "3143   4002 days\n",
       "3144   2388 days\n",
       "3145   5371 days\n",
       "3146   5616 days\n",
       "3147   6985 days\n",
       "3148   5797 days\n",
       "3149   5767 days\n",
       "Name: PublishedDays, Length: 3150, dtype: timedelta64[ns]"
      ]
     },
     "execution_count": 69,
     "metadata": {},
     "output_type": "execute_result"
    }
   ],
   "source": [
    "features[\"PublishedDays\"]"
   ]
  },
  {
   "cell_type": "code",
   "execution_count": null,
   "metadata": {},
   "outputs": [],
   "source": []
  }
 ],
 "metadata": {
  "kernelspec": {
   "display_name": "Python 3",
   "language": "python",
   "name": "python3"
  },
  "language_info": {
   "codemirror_mode": {
    "name": "ipython",
    "version": 3
   },
   "file_extension": ".py",
   "mimetype": "text/x-python",
   "name": "python",
   "nbconvert_exporter": "python",
   "pygments_lexer": "ipython3",
   "version": "3.6.4"
  }
 },
 "nbformat": 4,
 "nbformat_minor": 4
}
